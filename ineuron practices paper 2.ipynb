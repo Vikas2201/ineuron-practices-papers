{
 "cells": [
  {
   "cell_type": "markdown",
   "metadata": {},
   "source": [
    " Write a Python program to check if all dictionaries in a list are empty or not."
   ]
  },
  {
   "cell_type": "code",
   "execution_count": 1,
   "metadata": {},
   "outputs": [
    {
     "name": "stdout",
     "output_type": "stream",
     "text": [
      "True\n",
      "False\n"
     ]
    }
   ],
   "source": [
    "list1 = [{},{},{}]\n",
    "list2 = [{123,2345},{56,89},{34,}]\n",
    "print(all(not d for d in list1))\n",
    "print(all(not d for d in list2))   "
   ]
  },
  {
   "cell_type": "markdown",
   "metadata": {},
   "source": [
    "Write a Python program to remove duplicates from a list of lists."
   ]
  },
  {
   "cell_type": "code",
   "execution_count": 11,
   "metadata": {},
   "outputs": [
    {
     "name": "stdout",
     "output_type": "stream",
     "text": [
      "Original List :  [[110, 120], [240], [330, 456, 425], [310, 220], [133], [240]]\n",
      "New List :  [[110, 120], [133], [240], [310, 220], [330, 456, 425]]\n"
     ]
    }
   ],
   "source": [
    "import itertools\n",
    "lt = [[110, 120], [240], [330, 456, 425], [310, 220], [133], [240]]\n",
    "print(\"Original List : \", lt)\n",
    "lt.sort()\n",
    "new_list = list(lt for lt,_ in itertools.groupby(lt))\n",
    "print(\"New List : \", new_list)"
   ]
  },
  {
   "cell_type": "markdown",
   "metadata": {},
   "source": [
    "Write a Python program to extend a list without append."
   ]
  },
  {
   "cell_type": "code",
   "execution_count": 13,
   "metadata": {},
   "outputs": [
    {
     "name": "stdout",
     "output_type": "stream",
     "text": [
      "how much items u want to enter in first list : 5\n",
      "how much items u want to enter in second list : 3\n",
      "enter values in first list : \n",
      "23\n",
      "45\n",
      "67\n",
      "89\n",
      "0\n",
      "enter values in second list : \n",
      "11\n",
      "12\n",
      "356\n",
      "new list :  [11, 12, 356, 23, 45, 67, 89, 0]\n"
     ]
    }
   ],
   "source": [
    "lt1 = []\n",
    "lt2 = []\n",
    "n1 = int(input(\"how much items u want to enter in first list : \"))\n",
    "n2 = int(input(\"how much items u want to enter in second list : \"))\n",
    "print(\"enter values in first list : \")\n",
    "for i in range (n1) :\n",
    "    value = int(input())\n",
    "    lt1.append(value)\n",
    "print(\"enter values in second list : \")\n",
    "for i in range (n2) :\n",
    "    value = int(input())\n",
    "    lt2.append(value) \n",
    "lt1[:0] = lt2 #tuple unpacking \n",
    "print(\"new list : \" ,lt1)"
   ]
  },
  {
   "cell_type": "markdown",
   "metadata": {},
   "source": [
    "Write a Python program to find the list in a list of lists whose sum of elements is the highest"
   ]
  },
  {
   "cell_type": "code",
   "execution_count": 2,
   "metadata": {},
   "outputs": [
    {
     "name": "stdout",
     "output_type": "stream",
     "text": [
      "how much items u want to enter in first list : 3\n",
      "how much items u want to enter in second list : 2\n",
      "3\n",
      "4\n",
      "5\n",
      "6\n",
      "7\n",
      "8\n",
      "our nested list :  [[3, 4], [5, 6], [7, 8]]\n",
      "highest sum value list in a list of lists :   [7, 8]\n"
     ]
    }
   ],
   "source": [
    "lt1 = []\n",
    "lt2 = []\n",
    "n1 = int(input(\"how much items u want to enter in first list : \"))\n",
    "n2 = int(input(\"how much items u want to enter in second list : \"))\n",
    "for i in range(0,n1):\n",
    "    lt2 = []\n",
    "    for j in range (0,n2):\n",
    "        num = int(input())\n",
    "        lt2.append(num)\n",
    "    lt1.append(lt2)    \n",
    "print(\"our nested list : \",lt1)\n",
    "max_list = max(lt1, key = sum)\n",
    "print(\"highest sum value list in a list of lists :  \",max_list)"
   ]
  },
  {
   "cell_type": "markdown",
   "metadata": {},
   "source": [
    "Write a Python program to access dictionary key’s element by index."
   ]
  },
  {
   "cell_type": "code",
   "execution_count": 14,
   "metadata": {},
   "outputs": [
    {
     "name": "stdout",
     "output_type": "stream",
     "text": [
      "dict_keys(['stats', 'math', 'algorithm'])\n",
      "stats\n"
     ]
    }
   ],
   "source": [
    "dic = {'stats': 80, 'math': 90, 'algorithm': 86}\n",
    "#keys of dictionary\n",
    "key = dic.keys()\n",
    "print(key)\n",
    "#print first key of dictionary by indexing\n",
    "print(list(dic)[0])"
   ]
  },
  {
   "cell_type": "markdown",
   "metadata": {},
   "source": [
    "write a program to inser a string at the begining of every elements in a list"
   ]
  },
  {
   "cell_type": "code",
   "execution_count": 17,
   "metadata": {},
   "outputs": [
    {
     "name": "stdout",
     "output_type": "stream",
     "text": [
      "how many item do u want to enter in list : 3\n",
      "5\n",
      "90\n",
      "78\n",
      "our list :  [5, 90, 78]\n",
      "new list :  ['word5', 'word90', 'word78']\n"
     ]
    }
   ],
   "source": [
    "lt = []\n",
    "n = int(input(\"how many item do u want to enter in list : \"))\n",
    "for i in range(n) :\n",
    "    value = int(input())\n",
    "    lt.append(value)\n",
    "print(\"our list : \" , lt)\n",
    "lt2 = []\n",
    "for i in lt :\n",
    "    lt2.append(\"word{0}\".format(i))\n",
    "print(\"new list : \", lt2)    "
   ]
  },
  {
   "cell_type": "code",
   "execution_count": null,
   "metadata": {},
   "outputs": [],
   "source": []
  }
 ],
 "metadata": {
  "kernelspec": {
   "display_name": "Python 3",
   "language": "python",
   "name": "python3"
  },
  "language_info": {
   "codemirror_mode": {
    "name": "ipython",
    "version": 3
   },
   "file_extension": ".py",
   "mimetype": "text/x-python",
   "name": "python",
   "nbconvert_exporter": "python",
   "pygments_lexer": "ipython3",
   "version": "3.8.3"
  }
 },
 "nbformat": 4,
 "nbformat_minor": 4
}
