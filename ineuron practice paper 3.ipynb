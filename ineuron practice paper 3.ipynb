{
 "cells": [
  {
   "cell_type": "markdown",
   "metadata": {},
   "source": [
    "_______________________________________________\n",
    "write a program to sort a dictionary by key.\n",
    "_____________________________________________________"
   ]
  },
  {
   "cell_type": "code",
   "execution_count": 1,
   "metadata": {},
   "outputs": [
    {
     "name": "stdout",
     "output_type": "stream",
     "text": [
      "AI: 235\n",
      "data: 123\n",
      "science: 234\n"
     ]
    }
   ],
   "source": [
    "dict1 = {'data': '123', 'science':'234', 'AI': '235'}\n",
    "for i in sorted(dict1) :\n",
    "    print(\"%s: %s\" % (i, dict1[i]))"
   ]
  },
  {
   "cell_type": "markdown",
   "metadata": {},
   "source": [
    "______________________________________________________________________\n",
    "Write a Python program to get a dictionary from an object's fields.\n",
    "__________________________________________________________________________"
   ]
  },
  {
   "cell_type": "code",
   "execution_count": 2,
   "metadata": {},
   "outputs": [
    {
     "name": "stdout",
     "output_type": "stream",
     "text": [
      "{'name': 'vikas', 'roll_no': 4555, 'Class': 'bteach 2nd year'}\n"
     ]
    }
   ],
   "source": [
    "class dictionary :\n",
    "    def __init__(self,name, roll_no,Class) :\n",
    "        self.name = name \n",
    "        self.roll_no = roll_no\n",
    "        self.Class = Class\n",
    "d = dictionary(\"vikas\" , 4555 , \"bteach 2nd year\")\n",
    "print(d.__dict__)"
   ]
  },
  {
   "cell_type": "markdown",
   "metadata": {},
   "source": [
    "_________________________________________________________________\n",
    "write a program to combine two dictionary adding values for common keys.\n",
    "___________________________________________________________________"
   ]
  },
  {
   "cell_type": "code",
   "execution_count": 3,
   "metadata": {},
   "outputs": [
    {
     "name": "stdout",
     "output_type": "stream",
     "text": [
      "{'a': 1221, 'c': 1332, 'd': 765, 'e': 654}\n"
     ]
    }
   ],
   "source": [
    "dist1 = {'a':234,'b':345,'c':456}\n",
    "dist2 = {'a':987 ,'c':876 ,'d':765 ,'e':654}\n",
    "for i in dist2:\n",
    "    if i in dist1 :\n",
    "        dist2[i] = dist1[i]+dist2[i]\n",
    "print(dist2)                "
   ]
  },
  {
   "cell_type": "code",
   "execution_count": null,
   "metadata": {},
   "outputs": [],
   "source": []
  }
 ],
 "metadata": {
  "kernelspec": {
   "display_name": "Python 3",
   "language": "python",
   "name": "python3"
  },
  "language_info": {
   "codemirror_mode": {
    "name": "ipython",
    "version": 3
   },
   "file_extension": ".py",
   "mimetype": "text/x-python",
   "name": "python",
   "nbconvert_exporter": "python",
   "pygments_lexer": "ipython3",
   "version": "3.8.3"
  }
 },
 "nbformat": 4,
 "nbformat_minor": 4
}
