{
 "cells": [
  {
   "cell_type": "markdown",
   "metadata": {},
   "source": [
    "Write a Python program to sum all the items in a list"
   ]
  },
  {
   "cell_type": "code",
   "execution_count": 1,
   "metadata": {},
   "outputs": [
    {
     "name": "stdout",
     "output_type": "stream",
     "text": [
      "How many items u want to enter in list : 3\n",
      "-1\n",
      "2\n",
      "-8\n",
      "Our list :  [-1, 2, -8]\n",
      "sum of all items in a list :  -7\n"
     ]
    }
   ],
   "source": [
    "lt = []\n",
    "n = int(input(\"How many items u want to enter in list : \"))\n",
    "for i in range(0,n) :\n",
    "    value = int(input())\n",
    "    lt.append(value)\n",
    "print(\"Our list : \", lt)\n",
    "Sum = 0\n",
    "for i in lt :\n",
    "    Sum = Sum + i\n",
    "print(\"sum of all items in a list : \", Sum)    "
   ]
  },
  {
   "cell_type": "markdown",
   "metadata": {},
   "source": [
    "Write a Python program to count the number of strings where the string length is 2 or more and the first and last character are same from a given list of strings."
   ]
  },
  {
   "cell_type": "code",
   "execution_count": 2,
   "metadata": {},
   "outputs": [
    {
     "name": "stdout",
     "output_type": "stream",
     "text": [
      "How many words u want to enter in list : 6\n",
      "abc\n",
      "xyz\n",
      "bab\n",
      "1221\n",
      "aa\n",
      "vikas\n",
      "our list :  ['abc', 'xyz', 'bab', '1221', 'aa', 'vikas']\n",
      "Number of strings :  3\n"
     ]
    }
   ],
   "source": [
    "def count(lt) :\n",
    "    Sum = 0\n",
    "    for i in lt :\n",
    "        if len(i)>= 2 and i[0] == i[-1] :\n",
    "            Sum = Sum + 1\n",
    "    print(\"Number of strings : \",Sum)            \n",
    "#main program begins \n",
    "lt = []\n",
    "n = int(input(\"How many words u want to enter in list : \"))\n",
    "for i in range(0,n) :\n",
    "    word = input( )\n",
    "    lt.append(word)\n",
    "print(\"our list : \",lt)\n",
    "count(lt)"
   ]
  },
  {
   "cell_type": "markdown",
   "metadata": {},
   "source": [
    "Write a Python program to remove duplicates from a list."
   ]
  },
  {
   "cell_type": "code",
   "execution_count": 1,
   "metadata": {},
   "outputs": [
    {
     "name": "stdout",
     "output_type": "stream",
     "text": [
      "How many items u want to enter in list : 9\n",
      "10\n",
      "20\n",
      "10\n",
      "0\n",
      "67\n",
      "38\n",
      "67\n",
      "20\n",
      "0\n",
      "Our list :  ['10', '20', '10', '0', '67', '38', '67', '20', '0']\n",
      "list without duplicates items :  ['10', '20', '0', '67', '38']\n"
     ]
    }
   ],
   "source": [
    "def duplicate(lt) :\n",
    "    dup = []\n",
    "    unique = []\n",
    "    for i in lt :\n",
    "        if i not in dup : \n",
    "            dup.append(i)\n",
    "    print(\"list without duplicates items : \", dup)        \n",
    "#main program begins    \n",
    "lt = []\n",
    "n = int(input(\"How many items u want to enter in list : \"))\n",
    "for i in range(0,n) :\n",
    "    word = input()\n",
    "    lt.append(word)\n",
    "print(\"Our list : \", lt)\n",
    "duplicate(lt)"
   ]
  },
  {
   "cell_type": "code",
   "execution_count": null,
   "metadata": {},
   "outputs": [],
   "source": []
  }
 ],
 "metadata": {
  "kernelspec": {
   "display_name": "Python 3",
   "language": "python",
   "name": "python3"
  },
  "language_info": {
   "codemirror_mode": {
    "name": "ipython",
    "version": 3
   },
   "file_extension": ".py",
   "mimetype": "text/x-python",
   "name": "python",
   "nbconvert_exporter": "python",
   "pygments_lexer": "ipython3",
   "version": "3.8.3"
  }
 },
 "nbformat": 4,
 "nbformat_minor": 4
}
