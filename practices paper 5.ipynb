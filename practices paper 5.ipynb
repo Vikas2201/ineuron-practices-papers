{
 "cells": [
  {
   "cell_type": "markdown",
   "metadata": {},
   "source": [
    "Create a list of length 3 and Create a list of length 4, For each element in the first list, Display the corresponding index element of the second list.\n",
    "---------------------------------------------------------------------------------------------------------------------------------------------------------"
   ]
  },
  {
   "cell_type": "code",
   "execution_count": 1,
   "metadata": {},
   "outputs": [
    {
     "name": "stdout",
     "output_type": "stream",
     "text": [
      "viki\n",
      "tiki\n",
      "niki\n",
      "vikas\n",
      "tailk\n",
      "nikay\n",
      "\n",
      "our first list :  ['viki', 'tiki', 'niki']\n",
      "our second list :  ['vikas', 'tailk', 'nikay', '']\n",
      "viki follow  vikas\n",
      "tiki follow  tailk\n",
      "niki follow  nikay\n"
     ]
    }
   ],
   "source": [
    "lt1 = []\n",
    "lt2 = []\n",
    "for i in range(3) :\n",
    "    word = input()\n",
    "    lt1.append(word)\n",
    "for i in range(4) :\n",
    "    word = input()\n",
    "    lt2.append(word)\n",
    "print(\"our first list : \" , lt1) \n",
    "print(\"our second list : \", lt2)\n",
    "for i , j in zip(lt1 , lt2) :\n",
    "    print( i , \"follow \" , j)"
   ]
  },
  {
   "cell_type": "markdown",
   "metadata": {},
   "source": [
    "A loop will exit when completed, but using an else statement we can add an action at the conclusion of the loop if it hasn’t been exited earlier.\n",
    "-----------------------------------------------------------------------------------------------------------------------------------------------"
   ]
  },
  {
   "cell_type": "code",
   "execution_count": 4,
   "metadata": {},
   "outputs": [
    {
     "name": "stdout",
     "output_type": "stream",
     "text": [
      "how many items do u want to enter in list ? 5\n",
      "red\n",
      "blue\n",
      "pink\n",
      "orange\n",
      "black\n",
      "Our list is  ['red', 'blue', 'pink', 'orange', 'black']\n",
      "red\n",
      "blue\n",
      "pink\n"
     ]
    }
   ],
   "source": [
    "lt = []\n",
    "n = int(input(\"how many items do u want to enter in list ? \"))\n",
    "for i in range(n) :\n",
    "    word = input()\n",
    "    lt.append(word)\n",
    "print(\"Our list is \",lt)\n",
    "for i in lt :\n",
    "    if i == \"orange\" :\n",
    "        break\n",
    "    else :\n",
    "        print(i)\n",
    "        "
   ]
  },
  {
   "cell_type": "code",
   "execution_count": null,
   "metadata": {},
   "outputs": [],
   "source": []
  }
 ],
 "metadata": {
  "kernelspec": {
   "display_name": "Python 3",
   "language": "python",
   "name": "python3"
  },
  "language_info": {
   "codemirror_mode": {
    "name": "ipython",
    "version": 3
   },
   "file_extension": ".py",
   "mimetype": "text/x-python",
   "name": "python",
   "nbconvert_exporter": "python",
   "pygments_lexer": "ipython3",
   "version": "3.8.3"
  }
 },
 "nbformat": 4,
 "nbformat_minor": 4
}
